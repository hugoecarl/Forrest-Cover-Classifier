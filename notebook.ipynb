{
 "cells": [
  {
   "cell_type": "markdown",
   "metadata": {},
   "source": [
    "# Random Forest with Hyperparameter Tuning vs SGD"
   ]
  },
  {
   "cell_type": "markdown",
   "metadata": {},
   "source": [
    "O dataset \"Forest Cover type\" é um famoso dataset com cerca de meio milhão de amostras, nas quais o objetivo é prever o tipo de árvores existentes em vários terrenos. Cada linha do dataset corresponde a um pequeno terreno, onde são listadas várias características geológicas e geográficas.\n",
    "\n",
    "Neste notebook, filtrei o dataset para selecionar aleatoriamente 20000 linhas, e mantive apenas as amostras dos territórios 1 e 3 do dataset. Eis a descrição das colunas:\n",
    "\n",
    "| #  | Coluna                             | Significado |\n",
    "|--- | ------                             | ----------- |\n",
    "| 0  | Elevation                          | Elevação do terreno (m) |\n",
    "| 1  | Aspect                             | Azimute do terreno (graus) |\n",
    "| 2  | Slope                              | Inclinação do terreno (graus) |\n",
    "| 3  | Horizontal_Distance_To_Hydrology   | Distância horizontal até a característica hidrológica (lagos, rios, etc) mais próxima (m) |\n",
    "| 4  | Vertical_Distance_To_Hydrology     | Distância vertical até a característica hidrológica (lagos, rios, etc) mais próxima (m) |\n",
    "| 5  | Horizontal_Distance_To_Roadways    | Distância horizontal até rodovia mais próxima (m) |\n",
    "| 6  | Hillshade_9am                      | Indice de sombra de encosta às 9h no solstício de verão |\n",
    "| 7  | Hillshade_Noon                     | Indice de sombra de encosta ao meio-dia no solstício de verão |\n",
    "| 8  | Hillshade_3pm                      | Indice de sombra de encosta às 15h no solstício de verão |\n",
    "| 9  | Horizontal_Distance_To_Fire_Points | Distância horizontal até o ponto de queimada mais próximo (m) |\n",
    "| 10 | Cover_Type                         | Tipo de arvores (variável categórica) (esse é o nosso target) |\n",
    "| 11 | soil_type                          | Tipo de solo (variável categórica) |\n",
    "| 12 | Wilderness                         | Região de coleta dos dados (variável categórica) |\n",
    "\n",
    "O arquivo \"covtype_info.txt\" contém mais informação sobre esse dataset, incluindo as definições exatas de tipo de solo, região de coleta de dados, e tipo de árvores.\n",
    "\n",
    "O tipo 2 de cobertura corresponde às árvores do tipo \"spruce/fir\". O objetivo é construir um classificador que detecta se um terreno será coberto por esse tipo de árvore ou não. Utilizando recursos de Hyperparameter Tuning. Importante lembrar que esse notebook foi codado para uma prova então os resultados de acurácia não foram tão altos o que demandaria mais tempo para aprimorar o modelo. Foi um teste de velocidade para construir modelos de ML."
   ]
  },
  {
   "cell_type": "code",
   "execution_count": 2,
   "metadata": {},
   "outputs": [],
   "source": [
    "%matplotlib inline\n",
    "import pandas as pd\n",
    "import numpy as np\n",
    "import matplotlib.pyplot as plt"
   ]
  },
  {
   "cell_type": "code",
   "execution_count": 3,
   "metadata": {},
   "outputs": [],
   "source": [
    "df = pd.read_csv('dataset.csv')\n",
    "df['Cover_Type'] = df['Cover_Type'].astype('category')\n",
    "df['soil_type'] = df['soil_type'].astype('category')\n",
    "df['Wilderness'] = df['Wilderness'].astype('category')"
   ]
  },
  {
   "cell_type": "code",
   "execution_count": 4,
   "metadata": {},
   "outputs": [
    {
     "name": "stdout",
     "output_type": "stream",
     "text": [
      "<class 'pandas.core.frame.DataFrame'>\n",
      "RangeIndex: 20000 entries, 0 to 19999\n",
      "Data columns (total 13 columns):\n",
      "Elevation                             20000 non-null int64\n",
      "Aspect                                20000 non-null int64\n",
      "Slope                                 20000 non-null int64\n",
      "Horizontal_Distance_To_Hydrology      20000 non-null int64\n",
      "Vertical_Distance_To_Hydrology        20000 non-null int64\n",
      "Horizontal_Distance_To_Roadways       20000 non-null int64\n",
      "Hillshade_9am                         20000 non-null int64\n",
      "Hillshade_Noon                        20000 non-null int64\n",
      "Hillshade_3pm                         20000 non-null int64\n",
      "Horizontal_Distance_To_Fire_Points    20000 non-null int64\n",
      "Cover_Type                            20000 non-null category\n",
      "soil_type                             20000 non-null category\n",
      "Wilderness                            20000 non-null category\n",
      "dtypes: category(3), int64(10)\n",
      "memory usage: 1.6 MB\n"
     ]
    }
   ],
   "source": [
    "df.info()"
   ]
  },
  {
   "cell_type": "code",
   "execution_count": 5,
   "metadata": {},
   "outputs": [
    {
     "data": {
      "text/html": [
       "<div>\n",
       "<style scoped>\n",
       "    .dataframe tbody tr th:only-of-type {\n",
       "        vertical-align: middle;\n",
       "    }\n",
       "\n",
       "    .dataframe tbody tr th {\n",
       "        vertical-align: top;\n",
       "    }\n",
       "\n",
       "    .dataframe thead th {\n",
       "        text-align: right;\n",
       "    }\n",
       "</style>\n",
       "<table border=\"1\" class=\"dataframe\">\n",
       "  <thead>\n",
       "    <tr style=\"text-align: right;\">\n",
       "      <th></th>\n",
       "      <th>count</th>\n",
       "      <th>mean</th>\n",
       "      <th>std</th>\n",
       "      <th>min</th>\n",
       "      <th>25%</th>\n",
       "      <th>50%</th>\n",
       "      <th>75%</th>\n",
       "      <th>max</th>\n",
       "    </tr>\n",
       "  </thead>\n",
       "  <tbody>\n",
       "    <tr>\n",
       "      <th>Elevation</th>\n",
       "      <td>20000.0</td>\n",
       "      <td>2990.01095</td>\n",
       "      <td>222.092373</td>\n",
       "      <td>2286.0</td>\n",
       "      <td>2845.0</td>\n",
       "      <td>3001.0</td>\n",
       "      <td>3155.0</td>\n",
       "      <td>3846.0</td>\n",
       "    </tr>\n",
       "    <tr>\n",
       "      <th>Aspect</th>\n",
       "      <td>20000.0</td>\n",
       "      <td>150.38660</td>\n",
       "      <td>110.280571</td>\n",
       "      <td>0.0</td>\n",
       "      <td>55.0</td>\n",
       "      <td>120.0</td>\n",
       "      <td>246.0</td>\n",
       "      <td>360.0</td>\n",
       "    </tr>\n",
       "    <tr>\n",
       "      <th>Slope</th>\n",
       "      <td>20000.0</td>\n",
       "      <td>13.57140</td>\n",
       "      <td>7.048431</td>\n",
       "      <td>0.0</td>\n",
       "      <td>8.0</td>\n",
       "      <td>13.0</td>\n",
       "      <td>18.0</td>\n",
       "      <td>50.0</td>\n",
       "    </tr>\n",
       "    <tr>\n",
       "      <th>Horizontal_Distance_To_Hydrology</th>\n",
       "      <td>20000.0</td>\n",
       "      <td>274.02080</td>\n",
       "      <td>217.941151</td>\n",
       "      <td>0.0</td>\n",
       "      <td>108.0</td>\n",
       "      <td>228.0</td>\n",
       "      <td>391.0</td>\n",
       "      <td>1371.0</td>\n",
       "    </tr>\n",
       "    <tr>\n",
       "      <th>Vertical_Distance_To_Hydrology</th>\n",
       "      <td>20000.0</td>\n",
       "      <td>45.68340</td>\n",
       "      <td>58.822985</td>\n",
       "      <td>-153.0</td>\n",
       "      <td>6.0</td>\n",
       "      <td>28.0</td>\n",
       "      <td>67.0</td>\n",
       "      <td>595.0</td>\n",
       "    </tr>\n",
       "    <tr>\n",
       "      <th>Horizontal_Distance_To_Roadways</th>\n",
       "      <td>20000.0</td>\n",
       "      <td>2540.88885</td>\n",
       "      <td>1545.080692</td>\n",
       "      <td>0.0</td>\n",
       "      <td>1308.0</td>\n",
       "      <td>2250.0</td>\n",
       "      <td>3548.0</td>\n",
       "      <td>7063.0</td>\n",
       "    </tr>\n",
       "    <tr>\n",
       "      <th>Hillshade_9am</th>\n",
       "      <td>20000.0</td>\n",
       "      <td>213.88320</td>\n",
       "      <td>24.622174</td>\n",
       "      <td>79.0</td>\n",
       "      <td>201.0</td>\n",
       "      <td>219.0</td>\n",
       "      <td>232.0</td>\n",
       "      <td>254.0</td>\n",
       "    </tr>\n",
       "    <tr>\n",
       "      <th>Hillshade_Noon</th>\n",
       "      <td>20000.0</td>\n",
       "      <td>224.01065</td>\n",
       "      <td>18.740213</td>\n",
       "      <td>95.0</td>\n",
       "      <td>213.0</td>\n",
       "      <td>226.0</td>\n",
       "      <td>237.0</td>\n",
       "      <td>254.0</td>\n",
       "    </tr>\n",
       "    <tr>\n",
       "      <th>Hillshade_3pm</th>\n",
       "      <td>20000.0</td>\n",
       "      <td>141.66810</td>\n",
       "      <td>36.566896</td>\n",
       "      <td>0.0</td>\n",
       "      <td>119.0</td>\n",
       "      <td>142.0</td>\n",
       "      <td>166.0</td>\n",
       "      <td>251.0</td>\n",
       "    </tr>\n",
       "    <tr>\n",
       "      <th>Horizontal_Distance_To_Fire_Points</th>\n",
       "      <td>20000.0</td>\n",
       "      <td>2066.96250</td>\n",
       "      <td>1330.040270</td>\n",
       "      <td>0.0</td>\n",
       "      <td>1131.0</td>\n",
       "      <td>1809.0</td>\n",
       "      <td>2609.0</td>\n",
       "      <td>7089.0</td>\n",
       "    </tr>\n",
       "  </tbody>\n",
       "</table>\n",
       "</div>"
      ],
      "text/plain": [
       "                                      count        mean          std     min  \\\n",
       "Elevation                           20000.0  2990.01095   222.092373  2286.0   \n",
       "Aspect                              20000.0   150.38660   110.280571     0.0   \n",
       "Slope                               20000.0    13.57140     7.048431     0.0   \n",
       "Horizontal_Distance_To_Hydrology    20000.0   274.02080   217.941151     0.0   \n",
       "Vertical_Distance_To_Hydrology      20000.0    45.68340    58.822985  -153.0   \n",
       "Horizontal_Distance_To_Roadways     20000.0  2540.88885  1545.080692     0.0   \n",
       "Hillshade_9am                       20000.0   213.88320    24.622174    79.0   \n",
       "Hillshade_Noon                      20000.0   224.01065    18.740213    95.0   \n",
       "Hillshade_3pm                       20000.0   141.66810    36.566896     0.0   \n",
       "Horizontal_Distance_To_Fire_Points  20000.0  2066.96250  1330.040270     0.0   \n",
       "\n",
       "                                       25%     50%     75%     max  \n",
       "Elevation                           2845.0  3001.0  3155.0  3846.0  \n",
       "Aspect                                55.0   120.0   246.0   360.0  \n",
       "Slope                                  8.0    13.0    18.0    50.0  \n",
       "Horizontal_Distance_To_Hydrology     108.0   228.0   391.0  1371.0  \n",
       "Vertical_Distance_To_Hydrology         6.0    28.0    67.0   595.0  \n",
       "Horizontal_Distance_To_Roadways     1308.0  2250.0  3548.0  7063.0  \n",
       "Hillshade_9am                        201.0   219.0   232.0   254.0  \n",
       "Hillshade_Noon                       213.0   226.0   237.0   254.0  \n",
       "Hillshade_3pm                        119.0   142.0   166.0   251.0  \n",
       "Horizontal_Distance_To_Fire_Points  1131.0  1809.0  2609.0  7089.0  "
      ]
     },
     "execution_count": 5,
     "metadata": {},
     "output_type": "execute_result"
    }
   ],
   "source": [
    "df.describe().transpose()"
   ]
  },
  {
   "cell_type": "code",
   "execution_count": 6,
   "metadata": {},
   "outputs": [
    {
     "data": {
      "text/plain": [
       "2    10400\n",
       "1     7618\n",
       "7      710\n",
       "3      583\n",
       "5      370\n",
       "6      319\n",
       "Name: Cover_Type, dtype: int64"
      ]
     },
     "execution_count": 6,
     "metadata": {},
     "output_type": "execute_result"
    }
   ],
   "source": [
    "df['Cover_Type'].value_counts()"
   ]
  },
  {
   "cell_type": "code",
   "execution_count": 7,
   "metadata": {},
   "outputs": [
    {
     "data": {
      "text/html": [
       "<div>\n",
       "<style scoped>\n",
       "    .dataframe tbody tr th:only-of-type {\n",
       "        vertical-align: middle;\n",
       "    }\n",
       "\n",
       "    .dataframe tbody tr th {\n",
       "        vertical-align: top;\n",
       "    }\n",
       "\n",
       "    .dataframe thead th {\n",
       "        text-align: right;\n",
       "    }\n",
       "</style>\n",
       "<table border=\"1\" class=\"dataframe\">\n",
       "  <thead>\n",
       "    <tr style=\"text-align: right;\">\n",
       "      <th></th>\n",
       "      <th>Elevation</th>\n",
       "      <th>Aspect</th>\n",
       "      <th>Slope</th>\n",
       "      <th>Horizontal_Distance_To_Hydrology</th>\n",
       "      <th>Vertical_Distance_To_Hydrology</th>\n",
       "      <th>Horizontal_Distance_To_Roadways</th>\n",
       "      <th>Hillshade_9am</th>\n",
       "      <th>Hillshade_Noon</th>\n",
       "      <th>Hillshade_3pm</th>\n",
       "      <th>Horizontal_Distance_To_Fire_Points</th>\n",
       "      <th>Cover_Type</th>\n",
       "      <th>soil_type</th>\n",
       "      <th>Wilderness</th>\n",
       "    </tr>\n",
       "  </thead>\n",
       "  <tbody>\n",
       "    <tr>\n",
       "      <th>0</th>\n",
       "      <td>2826</td>\n",
       "      <td>330</td>\n",
       "      <td>14</td>\n",
       "      <td>60</td>\n",
       "      <td>10</td>\n",
       "      <td>1549</td>\n",
       "      <td>187</td>\n",
       "      <td>222</td>\n",
       "      <td>175</td>\n",
       "      <td>2563</td>\n",
       "      <td>2</td>\n",
       "      <td>20</td>\n",
       "      <td>3</td>\n",
       "    </tr>\n",
       "    <tr>\n",
       "      <th>1</th>\n",
       "      <td>3283</td>\n",
       "      <td>27</td>\n",
       "      <td>3</td>\n",
       "      <td>0</td>\n",
       "      <td>0</td>\n",
       "      <td>4401</td>\n",
       "      <td>218</td>\n",
       "      <td>232</td>\n",
       "      <td>151</td>\n",
       "      <td>3653</td>\n",
       "      <td>1</td>\n",
       "      <td>23</td>\n",
       "      <td>3</td>\n",
       "    </tr>\n",
       "    <tr>\n",
       "      <th>2</th>\n",
       "      <td>2923</td>\n",
       "      <td>60</td>\n",
       "      <td>12</td>\n",
       "      <td>268</td>\n",
       "      <td>63</td>\n",
       "      <td>3555</td>\n",
       "      <td>229</td>\n",
       "      <td>215</td>\n",
       "      <td>118</td>\n",
       "      <td>5196</td>\n",
       "      <td>2</td>\n",
       "      <td>29</td>\n",
       "      <td>1</td>\n",
       "    </tr>\n",
       "    <tr>\n",
       "      <th>3</th>\n",
       "      <td>3018</td>\n",
       "      <td>57</td>\n",
       "      <td>8</td>\n",
       "      <td>277</td>\n",
       "      <td>47</td>\n",
       "      <td>4391</td>\n",
       "      <td>226</td>\n",
       "      <td>223</td>\n",
       "      <td>132</td>\n",
       "      <td>900</td>\n",
       "      <td>1</td>\n",
       "      <td>19</td>\n",
       "      <td>1</td>\n",
       "    </tr>\n",
       "    <tr>\n",
       "      <th>4</th>\n",
       "      <td>2664</td>\n",
       "      <td>112</td>\n",
       "      <td>5</td>\n",
       "      <td>60</td>\n",
       "      <td>-8</td>\n",
       "      <td>1214</td>\n",
       "      <td>229</td>\n",
       "      <td>234</td>\n",
       "      <td>139</td>\n",
       "      <td>1719</td>\n",
       "      <td>5</td>\n",
       "      <td>20</td>\n",
       "      <td>3</td>\n",
       "    </tr>\n",
       "    <tr>\n",
       "      <th>5</th>\n",
       "      <td>2890</td>\n",
       "      <td>151</td>\n",
       "      <td>15</td>\n",
       "      <td>234</td>\n",
       "      <td>85</td>\n",
       "      <td>2604</td>\n",
       "      <td>238</td>\n",
       "      <td>239</td>\n",
       "      <td>126</td>\n",
       "      <td>1291</td>\n",
       "      <td>2</td>\n",
       "      <td>10</td>\n",
       "      <td>3</td>\n",
       "    </tr>\n",
       "    <tr>\n",
       "      <th>6</th>\n",
       "      <td>3411</td>\n",
       "      <td>200</td>\n",
       "      <td>19</td>\n",
       "      <td>437</td>\n",
       "      <td>76</td>\n",
       "      <td>2882</td>\n",
       "      <td>209</td>\n",
       "      <td>253</td>\n",
       "      <td>171</td>\n",
       "      <td>1613</td>\n",
       "      <td>1</td>\n",
       "      <td>32</td>\n",
       "      <td>3</td>\n",
       "    </tr>\n",
       "    <tr>\n",
       "      <th>7</th>\n",
       "      <td>3321</td>\n",
       "      <td>72</td>\n",
       "      <td>21</td>\n",
       "      <td>67</td>\n",
       "      <td>9</td>\n",
       "      <td>2282</td>\n",
       "      <td>238</td>\n",
       "      <td>196</td>\n",
       "      <td>79</td>\n",
       "      <td>2151</td>\n",
       "      <td>1</td>\n",
       "      <td>22</td>\n",
       "      <td>3</td>\n",
       "    </tr>\n",
       "    <tr>\n",
       "      <th>8</th>\n",
       "      <td>3033</td>\n",
       "      <td>241</td>\n",
       "      <td>19</td>\n",
       "      <td>384</td>\n",
       "      <td>67</td>\n",
       "      <td>1276</td>\n",
       "      <td>181</td>\n",
       "      <td>252</td>\n",
       "      <td>206</td>\n",
       "      <td>577</td>\n",
       "      <td>2</td>\n",
       "      <td>32</td>\n",
       "      <td>3</td>\n",
       "    </tr>\n",
       "    <tr>\n",
       "      <th>9</th>\n",
       "      <td>2710</td>\n",
       "      <td>102</td>\n",
       "      <td>19</td>\n",
       "      <td>255</td>\n",
       "      <td>78</td>\n",
       "      <td>2486</td>\n",
       "      <td>248</td>\n",
       "      <td>212</td>\n",
       "      <td>86</td>\n",
       "      <td>2259</td>\n",
       "      <td>3</td>\n",
       "      <td>10</td>\n",
       "      <td>3</td>\n",
       "    </tr>\n",
       "  </tbody>\n",
       "</table>\n",
       "</div>"
      ],
      "text/plain": [
       "   Elevation  Aspect  Slope  Horizontal_Distance_To_Hydrology  \\\n",
       "0       2826     330     14                                60   \n",
       "1       3283      27      3                                 0   \n",
       "2       2923      60     12                               268   \n",
       "3       3018      57      8                               277   \n",
       "4       2664     112      5                                60   \n",
       "5       2890     151     15                               234   \n",
       "6       3411     200     19                               437   \n",
       "7       3321      72     21                                67   \n",
       "8       3033     241     19                               384   \n",
       "9       2710     102     19                               255   \n",
       "\n",
       "   Vertical_Distance_To_Hydrology  Horizontal_Distance_To_Roadways  \\\n",
       "0                              10                             1549   \n",
       "1                               0                             4401   \n",
       "2                              63                             3555   \n",
       "3                              47                             4391   \n",
       "4                              -8                             1214   \n",
       "5                              85                             2604   \n",
       "6                              76                             2882   \n",
       "7                               9                             2282   \n",
       "8                              67                             1276   \n",
       "9                              78                             2486   \n",
       "\n",
       "   Hillshade_9am  Hillshade_Noon  Hillshade_3pm  \\\n",
       "0            187             222            175   \n",
       "1            218             232            151   \n",
       "2            229             215            118   \n",
       "3            226             223            132   \n",
       "4            229             234            139   \n",
       "5            238             239            126   \n",
       "6            209             253            171   \n",
       "7            238             196             79   \n",
       "8            181             252            206   \n",
       "9            248             212             86   \n",
       "\n",
       "   Horizontal_Distance_To_Fire_Points Cover_Type soil_type Wilderness  \n",
       "0                                2563          2        20          3  \n",
       "1                                3653          1        23          3  \n",
       "2                                5196          2        29          1  \n",
       "3                                 900          1        19          1  \n",
       "4                                1719          5        20          3  \n",
       "5                                1291          2        10          3  \n",
       "6                                1613          1        32          3  \n",
       "7                                2151          1        22          3  \n",
       "8                                 577          2        32          3  \n",
       "9                                2259          3        10          3  "
      ]
     },
     "execution_count": 7,
     "metadata": {},
     "output_type": "execute_result"
    }
   ],
   "source": [
    "df.head(10)"
   ]
  },
  {
   "cell_type": "code",
   "execution_count": 8,
   "metadata": {},
   "outputs": [
    {
     "data": {
      "image/png": "[encoded data removed]",
      "text/plain": [
       "<Figure size 1440x1080 with 12 Axes>"
      ]
     },
     "metadata": {
      "needs_background": "light"
     },
     "output_type": "display_data"
    }
   ],
   "source": [
    "df.hist(bins=50, figsize=(20, 15))\n",
    "plt.show()"
   ]
  },
  {
   "cell_type": "code",
   "execution_count": 9,
   "metadata": {},
   "outputs": [],
   "source": [
    "from sklearn.model_selection import train_test_split\n",
    "\n",
    "target = 'Cover_Type'\n",
    "\n",
    "X = df.drop(columns=[target])\n",
    "\n",
    "y = df[target]\n",
    "\n",
    "X_train, X_test, y_train, y_test = train_test_split(X, y, test_size=0.2)"
   ]
  },
  {
   "cell_type": "code",
   "execution_count": 10,
   "metadata": {},
   "outputs": [],
   "source": [
    "#pega apenas os valores 2 do y \n",
    "y_train_2 = (y_train == 2)\n",
    "y_test_2 = (y_test == 2)"
   ]
  },
  {
   "cell_type": "code",
   "execution_count": 11,
   "metadata": {},
   "outputs": [
    {
     "data": {
      "text/plain": [
       "SGDClassifier(alpha=0.0001, average=False, class_weight=None,\n",
       "              early_stopping=False, epsilon=0.1, eta0=0.0, fit_intercept=True,\n",
       "              l1_ratio=0.15, learning_rate='optimal', loss='hinge',\n",
       "              max_iter=1000, n_iter_no_change=5, n_jobs=None, penalty='l2',\n",
       "              power_t=0.5, random_state=None, shuffle=True, tol=0.0001,\n",
       "              validation_fraction=0.1, verbose=0, warm_start=False)"
      ]
     },
     "execution_count": 11,
     "metadata": {},
     "output_type": "execute_result"
    }
   ],
   "source": [
    "from sklearn.linear_model import SGDClassifier\n",
    "#roda o modelo SGD para os dados\n",
    "sgd_clf = SGDClassifier(max_iter=1000, tol=1e-4)  \n",
    "sgd_clf.fit(X_train, y_train_2)"
   ]
  },
  {
   "cell_type": "code",
   "execution_count": 12,
   "metadata": {},
   "outputs": [
    {
     "name": "stdout",
     "output_type": "stream",
     "text": [
      "[0.62654668 0.52897056 0.52109507]\n"
     ]
    }
   ],
   "source": [
    "from sklearn.model_selection import cross_val_score\n",
    "#testa a validação cruzada dentro da base de teste para chegar a cara do modelo até agor\n",
    "res = cross_val_score(sgd_clf, X_train, y_train_2, cv=3, scoring=\"accuracy\", n_jobs=-1)\n",
    "#O cross val score mostra uma estimativa do desempenho para a base de testes de forma menos enviesada.\n",
    "print(res)"
   ]
  },
  {
   "cell_type": "code",
   "execution_count": 13,
   "metadata": {},
   "outputs": [
    {
     "data": {
      "text/plain": [
       "array([[5310, 2370],\n",
       "       [4057, 4263]], dtype=int64)"
      ]
     },
     "execution_count": 13,
     "metadata": {},
     "output_type": "execute_result"
    }
   ],
   "source": [
    "from sklearn.model_selection import cross_val_predict\n",
    "from sklearn.metrics import confusion_matrix\n",
    "\n",
    "y_train_pred = cross_val_predict(sgd_clf, X_train, y_train_2, cv=3, n_jobs=-1)\n",
    "#matriz de confusao mostra falsos positivos, falsos negativos e positivos e negativos reais.\n",
    "mat = confusion_matrix(y_train_2, y_train_pred)\n",
    "mat"
   ]
  },
  {
   "cell_type": "code",
   "execution_count": 14,
   "metadata": {},
   "outputs": [
    {
     "data": {
      "text/plain": [
       "array([0.05033333, 0.77220352, 0.40559079, ..., 0.93861067, 0.82356352,\n",
       "       0.86679269])"
      ]
     },
     "execution_count": 14,
     "metadata": {},
     "output_type": "execute_result"
    }
   ],
   "source": [
    "from sklearn.ensemble import RandomForestClassifier\n",
    "from sklearn.model_selection import RandomizedSearchCV\n",
    "\n",
    "# Number of trees in random forest\n",
    "n_estimators = [int(x) for x in np.linspace(start = 200, stop = 2000, num = 10)]\n",
    "# Number of features to consider at every split\n",
    "max_features = ['auto', 'sqrt']\n",
    "# Maximum number of levels in tree\n",
    "max_depth = [int(x) for x in np.linspace(10, 110, num = 11)]\n",
    "max_depth.append(None)\n",
    "# Minimum number of samples required to split a node\n",
    "min_samples_split = [2, 5, 10]\n",
    "# Minimum number of samples required at each leaf node\n",
    "min_samples_leaf = [1, 2, 4]\n",
    "# Method of selecting samples for training each tree\n",
    "bootstrap = [True, False]\n",
    "# Create the random grid\n",
    "random_grid = {'n_estimators': n_estimators,\n",
    "               'max_features': max_features,\n",
    "               'max_depth': max_depth,\n",
    "               'min_samples_split': min_samples_split,\n",
    "               'min_samples_leaf': min_samples_leaf,\n",
    "               'bootstrap': bootstrap}\n",
    "# Use the random grid to search for best hyperparameters\n",
    "# First create the base model to tune\n",
    "rf = RandomForestClassifier()\n",
    "# Random search of parameters, using 3 fold cross validation, \n",
    "# search across 100 different combinations, and use all available cores\n",
    "forest_clf = RandomizedSearchCV(estimator = rf, param_distributions = random_grid, n_iter = 100, cv = 3, verbose=2, random_state=42, n_jobs = -1)\n",
    "#Demora para rodar com o randomized search\n",
    "#forest_clf = RandomForestClassifier(n_estimators=100, criterion='gini', max_depth=100,min_samples_split=10, min_samples_leaf=4, min_weight_fraction_leaf=0.0, max_features='auto', max_leaf_nodes=None,bootstrap=True, oob_score=False, n_jobs=1, random_state=None, verbose=0, warm_start=False,class_weight=None)\n",
    "y_probas_forest = cross_val_predict(forest_clf, X_train, y_train_2, cv=3, method=\"predict_proba\", n_jobs=-1)\n",
    "\n",
    "y_scores_forest = y_probas_forest[:, 1] \n",
    "y_scores_forest"
   ]
  },
  {
   "cell_type": "code",
   "execution_count": 15,
   "metadata": {},
   "outputs": [
    {
     "data": {
      "image/png": "[encoded data removed]",
      "text/plain": [
       "<Figure size 576x432 with 1 Axes>"
      ]
     },
     "metadata": {
      "needs_background": "light"
     },
     "output_type": "display_data"
    }
   ],
   "source": [
    "from sklearn.metrics import roc_curve\n",
    "fpr, tpr, thresholds = roc_curve(y_train_2, y_scores_forest)\n",
    "#tudo para o treino para testar depois a acuracia do real\n",
    "plt.figure(figsize=(8, 6))\n",
    "plt.plot(fpr, tpr, linewidth=2)\n",
    "plt.plot([0, 1], [0, 1], 'k--')\n",
    "plt.axis([0, 1, 0, 1])\n",
    "plt.xlabel('False Positive Rate', fontsize=16)\n",
    "plt.ylabel('True Positive Rate', fontsize=16)\n",
    "plt.show()"
   ]
  },
  {
   "cell_type": "code",
   "execution_count": 16,
   "metadata": {},
   "outputs": [
    {
     "name": "stdout",
     "output_type": "stream",
     "text": [
      "0.83625\n"
     ]
    }
   ],
   "source": [
    "from sklearn.metrics import accuracy_score\n",
    "forest_clf.fit(X_train, y_train_2) \n",
    "final_predict = forest_clf.predict(X_test)\n",
    "print(accuracy_score(y_test_2, final_predict))"
   ]
  },
  {
   "cell_type": "code",
   "execution_count": 17,
   "metadata": {},
   "outputs": [
    {
     "name": "stdout",
     "output_type": "stream",
     "text": [
      "0.60225\n"
     ]
    }
   ],
   "source": [
    "sgd_clf.fit(X_train, y_train_2) \n",
    "final_predict = sgd_clf.predict(X_test)\n",
    "print(accuracy_score(y_test_2, final_predict))"
   ]
  },
  {
   "cell_type": "markdown",
   "metadata": {},
   "source": [
    "**Conclusões finais**  \n",
    "\n",
    "O modelo apesar de ser simples se mostra funcional primeiro foi utilizada a validação cruzada para chegar o desempenho dentro da base de testes e foi observado um desempenho mais ou menos para o SGD e ok para o random forrest. A curva roc mostra um pouco da cara do desempenho e o teste real na base mostra para o sgd e random forrest acurácia de 60% e 83% respectivamente."
   ]
  },
  {
   "cell_type": "code",
   "execution_count": null,
   "metadata": {},
   "outputs": [],
   "source": []
  }
 ],
 "metadata": {
  "kernelspec": {
   "display_name": "Python 3.6.4 64-bit ('base': conda)",
   "language": "python",
   "name": "python36464bitbaseconda234279eaee944b6f9de4829a0be36348"
  },
  "language_info": {
   "codemirror_mode": {
    "name": "ipython",
    "version": 3
   },
   "file_extension": ".py",
   "mimetype": "text/x-python",
   "name": "python",
   "nbconvert_exporter": "python",
   "pygments_lexer": "ipython3",
   "version": "3.6.4"
  }
 },
 "nbformat": 4,
 "nbformat_minor": 2
}
